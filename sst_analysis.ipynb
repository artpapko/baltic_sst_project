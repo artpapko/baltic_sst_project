{
 "cells": [
  {
   "cell_type": "markdown",
   "id": "52da9235",
   "metadata": {},
   "source": [
    "### Get/Clear data from csv"
   ]
  },
  {
   "cell_type": "code",
   "execution_count": null,
   "id": "76f55988",
   "metadata": {},
   "outputs": [],
   "source": [
    "import pandas as pd\n",
    "\n",
    "file_path = \"data/baltic_sst_monthlymean.csv\"\n",
    "df = pd.read_csv(file_path, sep=';')\n",
    "\n",
    "# Keep only rows with numeric 'Year' and convert to int\n",
    "df = df[pd.to_numeric(df['Year'], errors='coerce').notnull()]\n",
    "df['Year'] = df['Year'].astype(int)\n",
    "\n",
    "# Rename 'Yr' column to 'AnnualMean'\n",
    "df = df.rename(columns={'Yr': 'AnnualMean'})\n",
    "\n",
    "# Quick check of the data\n",
    "# print(df.head())\n",
    "# print(df.info())\n"
   ]
  },
  {
   "cell_type": "markdown",
   "id": "40b0edd2",
   "metadata": {},
   "source": [
    "### Build Graphic"
   ]
  },
  {
   "cell_type": "code",
   "execution_count": null,
   "id": "88b0040c",
   "metadata": {},
   "outputs": [],
   "source": [
    "import matplotlib.pyplot as plt\n",
    "from scipy.stats import linregress\n",
    "\n",
    "slope, intercept, r_value, p_value, std_err = linregress(df['Year'], df['AnnualMean'])\n",
    "plt.plot(df['Year'], df['AnnualMean'], label='Annual Mean SST')\n",
    "plt.plot(df['Year'], intercept + slope*df['Year'], color='red', label=f'Trend: {slope*10:.2f} °C/decade')\n",
    "plt.xlabel('Year')\n",
    "plt.ylabel('SST (°C)')\n",
    "plt.legend()\n",
    "plt.show()\n"
   ]
  }
 ],
 "metadata": {
  "kernelspec": {
   "display_name": ".venv",
   "language": "python",
   "name": "python3"
  },
  "language_info": {
   "codemirror_mode": {
    "name": "ipython",
    "version": 3
   },
   "file_extension": ".py",
   "mimetype": "text/x-python",
   "name": "python",
   "nbconvert_exporter": "python",
   "pygments_lexer": "ipython3",
   "version": "3.13.1"
  }
 },
 "nbformat": 4,
 "nbformat_minor": 5
}
