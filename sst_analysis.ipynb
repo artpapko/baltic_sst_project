{
 "cells": [
  {
   "cell_type": "markdown",
   "id": "dae3252a",
   "metadata": {},
   "source": [
    "### Import"
   ]
  },
  {
   "cell_type": "code",
   "execution_count": null,
   "id": "e72cff5e",
   "metadata": {},
   "outputs": [],
   "source": [
    "import pandas as pd\n",
    "import seaborn as sns\n",
    "import matplotlib.pyplot as plt"
   ]
  },
  {
   "cell_type": "markdown",
   "id": "52da9235",
   "metadata": {},
   "source": [
    "### Prepare Data"
   ]
  },
  {
   "cell_type": "code",
   "execution_count": null,
   "id": "76f55988",
   "metadata": {},
   "outputs": [],
   "source": [
    "# get df\n",
    "file_path = \"data/baltic_sst_monthlymean.csv\"\n",
    "df = pd.read_csv(file_path, sep=';')\n",
    "\n",
    "# check df\n",
    "# df.info()\n",
    "# df.describe()\n",
    "\n",
    "# Keep only rows with numeric 'Year' and convert to int\n",
    "df = df[pd.to_numeric(df['Year'], errors='coerce').notnull()]\n",
    "df['Year'] = df['Year'].astype(int)\n",
    "\n",
    "# add annual mean\n",
    "month_cols = df.columns[1:13]\n",
    "df['AnnualMean'] = df[month_cols].mean(axis=1)\n",
    "df = df.drop(columns=['Yr'])\n",
    "\n",
    "# check df\n",
    "# df.info()\n",
    "# df.describe()\n",
    "# df.head(36)\n"
   ]
  },
  {
   "cell_type": "markdown",
   "id": "40b0edd2",
   "metadata": {},
   "source": [
    "### Build Plot"
   ]
  },
  {
   "cell_type": "code",
   "execution_count": null,
   "id": "88b0040c",
   "metadata": {},
   "outputs": [],
   "source": [
    "sns.set_theme(style=\"darkgrid\")\n",
    "\n",
    "sns.regplot(\n",
    "    data=df,\n",
    "    x='Year',\n",
    "    y='AnnualMean',\n",
    "    ci=None,\n",
    "    line_kws={'color': 'red', 'label': 'Trend line'},\n",
    "    scatter_kws={'s': 60, 'color': 'steelblue'}\n",
    ")\n",
    "\n",
    "max_row = df.loc[df['AnnualMean'].idxmax()]\n",
    "\n",
    "\n",
    "plt.annotate(\n",
    "    f'Max SST: {max_row[\"AnnualMean\"]:.2f} °C ({int(max_row[\"Year\"])})',\n",
    "    xy=(max_row[\"Year\"], max_row[\"AnnualMean\"]), \n",
    "    xytext=(max_row[\"Year\"] - 5, max_row[\"AnnualMean\"]),  \n",
    "    arrowprops=dict(facecolor='black', edgecolor='darkred', arrowstyle='-|>', lw=1.5),\n",
    "    fontsize=8,\n",
    "    color='darkred',\n",
    "    ha='right'\n",
    ")\n",
    "\n",
    "plt.title('Baltic Sea Annual Mean SST (Trend & Max Anomaly)')\n",
    "plt.xlabel('Year')\n",
    "plt.ylabel('SST (°C)')\n",
    "plt.legend()\n",
    "plt.show()\n"
   ]
  }
 ],
 "metadata": {
  "kernelspec": {
   "display_name": ".venv",
   "language": "python",
   "name": "python3"
  },
  "language_info": {
   "codemirror_mode": {
    "name": "ipython",
    "version": 3
   },
   "file_extension": ".py",
   "mimetype": "text/x-python",
   "name": "python",
   "nbconvert_exporter": "python",
   "pygments_lexer": "ipython3",
   "version": "3.13.1"
  }
 },
 "nbformat": 4,
 "nbformat_minor": 5
}
