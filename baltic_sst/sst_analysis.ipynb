{
 "cells": [
  {
   "cell_type": "code",
   "execution_count": null,
   "id": "eaa9586a",
   "metadata": {},
   "outputs": [],
   "source": [
    "import os\n",
    "import pandas as pd\n",
    "\n",
    "# путь к файлу\n",
    "file_path = \"data/baltic_sst_monthlymean.csv\"\n",
    "\n",
    "# проверяем, существует ли файл\n",
    "if os.path.exists(file_path):\n",
    "    df = pd.read_csv(file_path)\n",
    "    print(\"✅ Файл успешно загружен!\")\n",
    "    print(df.head())  # показываем первые 5 строк\n",
    "else:\n",
    "    print(\"❌ Файл не найден!\")\n",
    "    print(\"Текущая директория:\", os.getcwd())\n",
    "    print(\"Содержимое папки:\")\n",
    "    print(os.listdir())  # покажет, что лежит в текущей папке"
   ]
  },
  {
   "cell_type": "markdown",
   "id": "52da9235",
   "metadata": {},
   "source": [
    "get df from csv"
   ]
  },
  {
   "cell_type": "code",
   "execution_count": null,
   "id": "76f55988",
   "metadata": {},
   "outputs": [],
   "source": [
    "import pandas as pd\n",
    "\n",
    "df = pd.read_csv(\"data/baltic_sst_monthlymean.csv\")"
   ]
  }
 ],
 "metadata": {
  "kernelspec": {
   "display_name": ".venv",
   "language": "python",
   "name": "python3"
  },
  "language_info": {
   "codemirror_mode": {
    "name": "ipython",
    "version": 3
   },
   "file_extension": ".py",
   "mimetype": "text/x-python",
   "name": "python",
   "nbconvert_exporter": "python",
   "pygments_lexer": "ipython3",
   "version": "3.13.1"
  }
 },
 "nbformat": 4,
 "nbformat_minor": 5
}
